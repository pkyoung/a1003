{
 "cells": [
  {
   "cell_type": "code",
   "execution_count": null,
   "metadata": {
    "colab": {
     "base_uri": "https://localhost:8080/"
    },
    "id": "0HfXslMLcUgr",
    "outputId": "2a67185b-602b-4741-a618-972e3b278583"
   },
   "outputs": [],
   "source": [
    "# Run this cell to automatically clone the repo\n",
    "import sys\n",
    "import os\n",
    "\n",
    "if 'google.colab' in sys.modules:\n",
    "    if not os.path.exists(\"/content/a1003\"):\n",
    "        !git clone \"https://github.com/pkyoung/a1003.git\" /content/a1003\n",
    "    %cd /content/a1003/local\n",
    "else:\n",
    "    if not os.path.exists(\"~/a1003\"):\n",
    "        !git clone \"https://github.com/pkyoung/a1003.git\" ~/a1003\n",
    "    %cd ~/a1003/local\n",
    "\n",
    "if not os.path.exists(\"data/a1003\"):\n",
    "  !git clone https://hf.co/datasets/pkyoung/a1003.git ./data/a1003"
   ]
  },
  {
   "cell_type": "markdown",
   "metadata": {
    "id": "ds38qww2I-Uj"
   },
   "source": [
    "huggingface에서 테스트용 데이터셋을 내려받습니다.\n",
    "9명의 화자가 20개의 짧은 문장을 발성한 wav 파일과 정답전사문 파일입니다.\n"
   ]
  },
  {
   "cell_type": "code",
   "execution_count": null,
   "metadata": {
    "id": "rpInwFfZI8PF"
   },
   "outputs": [],
   "source": [
    "if not os.path.exists(\"data/a1003\"):\n",
    "  !git clone https://hf.co/datasets/pkyoung/a1003.git ./data/a1003"
   ]
  },
  {
   "cell_type": "markdown",
   "metadata": {
    "id": "5ZmtC9uql4tF"
   },
   "source": [
    "내려받은 파일을 들어봅니다.\n",
    "내려받은 디렉토리의 구조는 다음과 같습니다.\n",
    "```\n",
    "data/a1003\n",
    "    ├── README.md\n",
    "    ├── result_whisper_turbo.txt\n",
    "    ├── text\n",
    "    ├── wav.scp\n",
    "    ├── wav\n",
    "    │   ├── spk1\n",
    "    │   │   ├── 1.wav\n",
    "    │   │   ├── 10.wav\n",
    "    │   │   ├── 11.wav\n",
    "    ...\n",
    "```\n",
    "`text` 파일과 `wav.scp` 파일은 앞서 설명한 `kaldi` 파일과 같은 형식을 갖습니다. 파일은 다음과 같은 방법으로 들어볼 수 있습니다."
   ]
  },
  {
   "cell_type": "code",
   "execution_count": null,
   "metadata": {
    "colab": {
     "base_uri": "https://localhost:8080/",
     "height": 75
    },
    "id": "uPw1w-0xl7_M",
    "outputId": "07c4f5dd-2f1a-46a6-85a4-cd89b9f87057"
   },
   "outputs": [],
   "source": [
    "from IPython.display import Audio\n",
    "filename = \"data/a1003/wav/spk1/1.wav\"\n",
    "Audio(filename, autoplay=False)"
   ]
  },
  {
   "cell_type": "code",
   "execution_count": null,
   "metadata": {
    "colab": {
     "base_uri": "https://localhost:8080/"
    },
    "id": "zPeDDb3WEjee",
    "outputId": "af2af7a3-23c5-44fd-d098-3ae9e9d3ed3a"
   },
   "outputs": [],
   "source": [
    "pip install openai-whisper"
   ]
  },
  {
   "cell_type": "markdown",
   "metadata": {
    "id": "UEiqfrfPL2HJ"
   },
   "source": [
    "## Whipser 음성인식\n",
    "\n",
    "한개의 wav 파일에 대해서 인식을 수행해봅니다. 간단하게 파일을 입력으로 `whisper` 명령어를 실행합니다."
   ]
  },
  {
   "cell_type": "code",
   "execution_count": null,
   "metadata": {
    "colab": {
     "base_uri": "https://localhost:8080/"
    },
    "id": "2qmOh7fyEtbx",
    "outputId": "928cedb6-adcc-4d9e-8ed4-f47092fca81d"
   },
   "outputs": [],
   "source": [
    "!whisper data/a1003/wav/spk1/1.wav"
   ]
  },
  {
   "cell_type": "markdown",
   "metadata": {
    "id": "YyB7WFQHMB3R"
   },
   "source": [
    "whisper는 task로 transcribe와 translate 두가지를 할 수 있습니다. 인식에 사용할 모델, 인식대상 언어를 지정하여 음성인식을 수행합니다. (Colab 환경에서 약 5분 이상 소요)"
   ]
  },
  {
   "cell_type": "code",
   "execution_count": null,
   "metadata": {
    "colab": {
     "base_uri": "https://localhost:8080/"
    },
    "id": "cFgHsQXDFBy-",
    "outputId": "84ed6c6e-2ba9-400a-a4f1-0d5b453b1fa0"
   },
   "outputs": [],
   "source": [
    "!whisper --model large-v3 --language ko --task transcribe data/a1003/wav/spk6/recording_17.wav"
   ]
  },
  {
   "cell_type": "markdown",
   "metadata": {
    "id": "iwkkmoe2MYbW"
   },
   "source": [
    "파이선 코드 안에서는 다음과 같은 방법으로 이용할 수 있습니다. Low-level 핸들링을 위해서는 `transcribe()` 함수 외에 `decode()` 함수를 사용할 수 있습니다."
   ]
  },
  {
   "cell_type": "code",
   "execution_count": null,
   "metadata": {
    "colab": {
     "base_uri": "https://localhost:8080/"
    },
    "id": "NIuram8cFG7o",
    "outputId": "f7ce04cf-6ba7-4b7b-a01b-3379d3a9fdcc"
   },
   "outputs": [],
   "source": [
    "import whisper\n",
    "model = whisper.load_model(\"tiny\")\n",
    "result = model.transcribe(\"data/a1003/wav/spk6/recording_17.wav\")\n",
    "print(result[\"text\"])"
   ]
  },
  {
   "cell_type": "markdown",
   "metadata": {
    "id": "v20XyYdZMsw1"
   },
   "source": [
    "전체 테스트 데이터셋 (180개) 에 대해서 인식을 수행해서 결과를 `result.txt` 파일에 저장합니다.\n",
    "\n",
    "보통의 GPU 카드가 설치된 머신에서는 수 분 이내로 인식이 완료됩니다. Colab 환경에서는 10분 이상 소요될 수 있습니다."
   ]
  },
  {
   "cell_type": "code",
   "execution_count": null,
   "metadata": {
    "colab": {
     "base_uri": "https://localhost:8080/",
     "height": 365
    },
    "id": "8ZyHLUOgHZX2",
    "outputId": "db8f59fe-22e1-44f3-9071-7099923c4e0a"
   },
   "outputs": [],
   "source": [
    "import whisper\n",
    "import tqdm\n",
    "import warnings\n",
    "warnings.filterwarnings(\"ignore\")\n",
    "\n",
    "model = whisper.load_model(\"tiny\")\n",
    "\n",
    "with open('data/a1003/wav.scp') as fscp:\n",
    "    lines = fscp.readlines()\n",
    "\n",
    "with open(\"result.txt\", \"w\") as f:\n",
    "  for line in  tqdm.tqdm(lines, desc=\"Transcribing\", unit=\"utterance\"):\n",
    "    uttid, filepath = line.split()\n",
    "    result = model.transcribe(filepath)\n",
    "    print(uttid, result[\"text\"], file=f)"
   ]
  },
  {
   "cell_type": "markdown",
   "metadata": {
    "id": "o9ScPzqCMx-X"
   },
   "source": [
    "저장된 인식결과를 확인합니다."
   ]
  },
  {
   "cell_type": "code",
   "execution_count": null,
   "metadata": {
    "colab": {
     "base_uri": "https://localhost:8080/"
    },
    "id": "WB7B-LE0IXig",
    "outputId": "1ddb00f8-acf4-4c3f-b7f0-fd1671a04f11"
   },
   "outputs": [],
   "source": [
    "!head result.txt"
   ]
  },
  {
   "cell_type": "markdown",
   "metadata": {
    "id": "LQDULyeeM2-M"
   },
   "source": [
    "## Whisper 모델의 음성인식 오류율 측정\n",
    "발화별 CER과 평균 CER을 계산합니다.\n",
    "\n",
    "`data/a1003/result_whisper_turbo.txt` 파일에 `large-v3-turbo` 모델의\n",
    "인식 결과를 미리 만들어 두었습니다. 이 파일을 사용해서 인식률을 측정합니다."
   ]
  },
  {
   "cell_type": "code",
   "execution_count": null,
   "metadata": {
    "colab": {
     "base_uri": "https://localhost:8080/"
    },
    "id": "9Tlb9oRIIZ_j",
    "outputId": "b1c8c983-bf30-409b-e6eb-355f312cb116"
   },
   "outputs": [],
   "source": [
    "!pip install editdistance\n",
    "!python uttcer.py data/a1003/text data/a1003/result_whisper_turbo.txt"
   ]
  },
  {
   "cell_type": "markdown",
   "metadata": {
    "id": "HWkNWTgZM-wn"
   },
   "source": [
    "화자별 음성인식 성능을 계산합니다."
   ]
  },
  {
   "cell_type": "code",
   "execution_count": null,
   "metadata": {
    "colab": {
     "base_uri": "https://localhost:8080/"
    },
    "id": "aY3v2_XLKClc",
    "outputId": "8c81537a-cb8d-40e2-f45c-2f997cf0953c"
   },
   "outputs": [],
   "source": [
    "%%bash\n",
    "for s in spk{1..9}; do\n",
    "  echo -n \"$s \" >&2\n",
    "  python uttcer.py data/a1003/text <(grep \"$s/\" data/a1003/result_whisper_turbo.txt) \\\n",
    "    > /dev/null\n",
    "done"
   ]
  },
  {
   "cell_type": "markdown",
   "metadata": {
    "id": "wBvJvp6wmP69"
   },
   "source": [
    "평균 오류율이 높은 화자에 대해서는 몇몇 파일을 들어봅니다. 주석처리된 부분을 바꿔가면서 들어봅니다."
   ]
  },
  {
   "cell_type": "code",
   "execution_count": null,
   "metadata": {
    "colab": {
     "base_uri": "https://localhost:8080/",
     "height": 75
    },
    "id": "1JnBJq78mUfR",
    "outputId": "a1ac39aa-f3d3-46a8-aba2-91d31b9ee322"
   },
   "outputs": [],
   "source": [
    "from IPython.display import Audio\n",
    "filename = \"data/a1003/wav/spk2/utt1.wav\"\n",
    "#filename = \"data/a1003/wav/spk7/recording_00.wav\"\n",
    "#filename = \"data/a1003/wav/spk3/data15.wav\"\n",
    "\n",
    "Audio(filename, autoplay=False)"
   ]
  },
  {
   "cell_type": "markdown",
   "metadata": {
    "id": "YMBYBgeAM6VV"
   },
   "source": [
    "문장부호를 제외한 CER을 계산합니다."
   ]
  },
  {
   "cell_type": "code",
   "execution_count": null,
   "metadata": {
    "colab": {
     "base_uri": "https://localhost:8080/"
    },
    "id": "PUW0cLq7IegJ",
    "outputId": "c09f7e44-4200-4d53-dcd3-001a2b797181"
   },
   "outputs": [],
   "source": [
    "!python uttwer.py <(python pp.py -s data/a1003/text) \\\n",
    "  <(python pp.py -s data/a1003/result_whisper_turbo.txt) > /dev/null"
   ]
  },
  {
   "cell_type": "markdown",
   "metadata": {
    "id": "dJiWQNzUg2N9"
   },
   "source": [
    "## Whisper 모델별 음성인식 성능 및 속도\n",
    "\n",
    "각 모델별 모델크기, 인식 소요 시간 및 인식 성능은 다음 표와 같습니다.\n",
    "인식소요시간 및 인식성능은 환경에 따라 달라질 수 있습니다. (WER1, CER1: 문장부호 제외 전/WER2, CER2: 문장부호 제외 후)\n",
    "\n",
    "| Model          | Size | Elapsed | RTF | WER1 | CER1 | WER2 | CER2 |\n",
    "| ---            | ---  | ---     | --- | ---  | ---  | ---  | ---  |\n",
    "| tiny           | 73M  | 1m6s    |0.04 |50.11 |26.62 |44.10 |24.55 |\n",
    "| base           | 139M | 1m2s    |0.04 |38.94 |17.74 |32.76 |15.61 |\n",
    "| small          | 462M | 1m38s   |0.06 |32.73 |13.07 |24.55 |10.13 |\n",
    "| medium         | 1.5G | 3m5s    |0.11 |29.57 |11.14 |21.90 | 8.46 |\n",
    "| large-v1       | 2.9G | 4m0s    |0.15 |25.33 | 9.03 |16.98 | 6.15 |\n",
    "| large-v2       | 2.9G | 3m46s   |0.14 |30.34 |13.43 |21.64 |10.24 |\n",
    "| large-v3       | 2.9G | 4m1s    |0.15 |29.44 |13.46 |20.40 |10.43 |\n",
    "| large-v3-turbo | 1.6G | 1m19s   |0.05 |24.18 | 8.29 |14.67 | 5.05 |\n"
   ]
  }
 ],
 "metadata": {
  "colab": {
   "authorship_tag": "ABX9TyPVL5bfQEKI9PH4h765kWtS",
   "provenance": []
  },
  "kernelspec": {
   "display_name": "Python 3 (ipykernel)",
   "language": "python",
   "name": "python3"
  },
  "language_info": {
   "codemirror_mode": {
    "name": "ipython",
    "version": 3
   },
   "file_extension": ".py",
   "mimetype": "text/x-python",
   "name": "python",
   "nbconvert_exporter": "python",
   "pygments_lexer": "ipython3",
   "version": "3.10.17"
  }
 },
 "nbformat": 4,
 "nbformat_minor": 4
}
