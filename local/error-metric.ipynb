{
 "cells": [
  {
   "cell_type": "code",
   "execution_count": null,
   "id": "established-authorization",
   "metadata": {},
   "outputs": [],
   "source": [
    "import editdistance\n",
    "\n",
    "def compute_wer(ref, rec):\n",
    "    #\n",
    "    # fill me\n",
    "    #\n",
    "    wer = 0\n",
    "    return wer\n",
    "\n",
    "def compute_cer(ref, rec):\n",
    "    #\n",
    "    # fill me\n",
    "    #\n",
    "    cer = 0\n",
    "    return cer\n",
    "\n",
    "ref = \"how is the weather today\"\n",
    "rec = \"how as the better to day\"\n",
    "\n",
    "\n",
    "print(\"wer=\", compute_wer(ref, rec), \", cer=\", compute_cer(ref,rec))"
   ]
  },
  {
   "cell_type": "code",
   "execution_count": null,
   "id": "dried-guide",
   "metadata": {},
   "outputs": [],
   "source": []
  }
 ],
 "metadata": {
  "kernelspec": {
   "display_name": "Python 3",
   "language": "python",
   "name": "python3"
  },
  "language_info": {
   "codemirror_mode": {
    "name": "ipython",
    "version": 3
   },
   "file_extension": ".py",
   "mimetype": "text/x-python",
   "name": "python",
   "nbconvert_exporter": "python",
   "pygments_lexer": "ipython3",
   "version": "3.7.9"
  }
 },
 "nbformat": 4,
 "nbformat_minor": 5
}
