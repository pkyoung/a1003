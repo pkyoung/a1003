{
  "cells": [
    {
      "cell_type": "markdown",
      "source": [
        "# 음성인식 오류율 측정 예제"
      ],
      "metadata": {
        "id": "KQK5jAWHapI4"
      },
      "id": "KQK5jAWHapI4"
    },
    {
      "cell_type": "markdown",
      "source": [
        "## 환경셋업"
      ],
      "metadata": {
        "id": "BYXo4wEdat4l"
      },
      "id": "BYXo4wEdat4l"
    },
    {
      "cell_type": "code",
      "source": [
        "# Run this cell to automatically clone the repo\n",
        "import sys\n",
        "import os\n",
        "\n",
        "if 'google.colab' in sys.modules:\n",
        "    if not os.path.exists(\"/content/a1003\"):\n",
        "        !git clone \"https://github.com/pkyoung/a1003.git\" /content/a1003\n",
        "    %cd /content/a1003/local\n",
        "else:\n",
        "    if not os.path.exists(\"~/a1003\"):\n",
        "        !git clone \"https://github.com/pkyoung/a1003.git\" ~/a1003\n",
        "    %cd ~/a1003/local"
      ],
      "metadata": {
        "colab": {
          "base_uri": "https://localhost:8080/"
        },
        "id": "UFk3NVTkXbbB",
        "outputId": "a231e6d0-2c79-48e8-e287-437bd7ed3b31"
      },
      "id": "UFk3NVTkXbbB",
      "execution_count": 1,
      "outputs": [
        {
          "output_type": "stream",
          "name": "stdout",
          "text": [
            "/content/a1003/local\n"
          ]
        }
      ]
    },
    {
      "cell_type": "markdown",
      "source": [
        "## 개별 문장에 대한 오류율 측정"
      ],
      "metadata": {
        "id": "mQVDoQvAaxfI"
      },
      "id": "mQVDoQvAaxfI"
    },
    {
      "cell_type": "markdown",
      "source": [
        "\n",
        "\n",
        "\n",
        "다음 코드는 두 개의 한국어 문장(정답, 음성인식결과)에 대하여\n",
        "edit distance(최소편집거리)를 계산하여 WER과 CER을 측정하는 코드입니다.\n",
        "\n",
        "Edit distance를 계산하기 위해서 `editdistance` 모듈을 import하고,\n",
        "두 개의 문장을 각 변수에 저장합니다.\n"
      ],
      "metadata": {
        "id": "9-Uj8wD3LyNc"
      },
      "id": "9-Uj8wD3LyNc"
    },
    {
      "cell_type": "code",
      "execution_count": 2,
      "id": "conditional-sterling",
      "metadata": {
        "id": "conditional-sterling"
      },
      "outputs": [],
      "source": [
        "import editdistance\n",
        "\n",
        "ref_text = \"오늘 서울의 날씨가 어때\"\n",
        "hyp_text = \"음 오늘의 날씨 가 어때\""
      ]
    },
    {
      "cell_type": "markdown",
      "source": [
        "WER을 측정하기 위해서 문장을 단어단위로 분리하여 리스트에 저장하빈다."
      ],
      "metadata": {
        "id": "JaHn32y5M14c"
      },
      "id": "JaHn32y5M14c"
    },
    {
      "cell_type": "code",
      "source": [
        "ref = ref_text.split()\n",
        "hyp = hyp_text.split()\n",
        "\n",
        "print(ref, hyp, sep='\\n')"
      ],
      "metadata": {
        "colab": {
          "base_uri": "https://localhost:8080/"
        },
        "id": "KRnyxO44MuRu",
        "outputId": "64589713-3467-4af8-e548-572117082a1c"
      },
      "id": "KRnyxO44MuRu",
      "execution_count": 3,
      "outputs": [
        {
          "output_type": "stream",
          "name": "stdout",
          "text": [
            "['오늘', '서울의', '날씨가', '어때']\n",
            "['음', '오늘의', '날씨', '가', '어때']\n"
          ]
        }
      ]
    },
    {
      "cell_type": "markdown",
      "source": [
        "Edit distance를 계산합니다. `editdistance.eval()` 함수는 두개의 리스트를 입력받아서,\n",
        "두 리스트 간의 editdistance를 반환하는 함수입니다."
      ],
      "metadata": {
        "id": "ymRwA6HAM-je"
      },
      "id": "ymRwA6HAM-je"
    },
    {
      "cell_type": "code",
      "execution_count": 4,
      "id": "requested-tunnel",
      "metadata": {
        "colab": {
          "base_uri": "https://localhost:8080/"
        },
        "id": "requested-tunnel",
        "outputId": "8750506a-cb05-4539-8906-2665f88d59e8"
      },
      "outputs": [
        {
          "output_type": "stream",
          "name": "stdout",
          "text": [
            "N=4, E=4, WER=100.0\n"
          ]
        }
      ],
      "source": [
        "E = editdistance.eval(ref, hyp)\n",
        "N = len(ref)\n",
        "WER = E/N*100\n",
        "print(f\"N={N}, E={E}, WER={WER}\")"
      ]
    },
    {
      "cell_type": "markdown",
      "source": [
        "CER을 측정하기 위해서 문장을 각 글자의 리스트로 변환합니다."
      ],
      "metadata": {
        "id": "MdqTF8vHMXDO"
      },
      "id": "MdqTF8vHMXDO"
    },
    {
      "cell_type": "code",
      "execution_count": 5,
      "id": "fiscal-supply",
      "metadata": {
        "colab": {
          "base_uri": "https://localhost:8080/"
        },
        "id": "fiscal-supply",
        "outputId": "23bc725b-fe9c-4741-d056-07210842a0cf"
      },
      "outputs": [
        {
          "output_type": "stream",
          "name": "stdout",
          "text": [
            "['오', '늘', ' ', '서', '울', '의', ' ', '날', '씨', '가', ' ', '어', '때']\n",
            "['음', ' ', '오', '늘', '의', ' ', '날', '씨', ' ', '가', ' ', '어', '때']\n"
          ]
        }
      ],
      "source": [
        "ref = list(ref_text)\n",
        "hyp = list(hyp_text)\n",
        "print(ref, hyp, sep='\\n')"
      ]
    },
    {
      "cell_type": "markdown",
      "source": [
        "\n",
        "글자 단위로 분리된 리스트(`ref`, `hyp`)에 대해서 같은 방법으로 editdistance를 측정합니다.\n",
        "공백문자도 하나의 글자로 처리된 것도 확인하세요.\n"
      ],
      "metadata": {
        "id": "mTcxVG6hNT9P"
      },
      "id": "mTcxVG6hNT9P"
    },
    {
      "cell_type": "code",
      "execution_count": 6,
      "id": "worse-natural",
      "metadata": {
        "colab": {
          "base_uri": "https://localhost:8080/"
        },
        "id": "worse-natural",
        "outputId": "8d2b8ffd-7019-4439-f457-f75926e7066f"
      },
      "outputs": [
        {
          "output_type": "stream",
          "name": "stdout",
          "text": [
            "N=13, E=5, CER=38.46153846153847\n"
          ]
        }
      ],
      "source": [
        "E = editdistance.eval(ref, hyp)\n",
        "N = len(ref)\n",
        "CER = E/N*100\n",
        "print(f\"N={N}, E={E}, CER={CER}\")"
      ]
    },
    {
      "cell_type": "markdown",
      "source": [
        "이번에는 공백문자를 무시하고(즉, 띄어쓰기 오류를 완전히 무시하고) CER을 측정해 봅니다.\n",
        "앞에서 글자단위로 분리한 것과 다르게 이번에는 공백문자를 미리 제거합니다."
      ],
      "metadata": {
        "id": "i72KzLooNwJA"
      },
      "id": "i72KzLooNwJA"
    },
    {
      "cell_type": "code",
      "execution_count": 7,
      "id": "governmental-respect",
      "metadata": {
        "colab": {
          "base_uri": "https://localhost:8080/"
        },
        "id": "governmental-respect",
        "outputId": "197de700-7e59-4440-f62e-7f746cb38e10"
      },
      "outputs": [
        {
          "output_type": "stream",
          "name": "stdout",
          "text": [
            "['오', '늘', '서', '울', '의', '날', '씨', '가', '어', '때']\n",
            "['음', '오', '늘', '의', '날', '씨', '가', '어', '때']\n"
          ]
        }
      ],
      "source": [
        "ref = list(''.join(ref_text.split()))\n",
        "hyp = list(''.join(hyp_text.split()))\n",
        "print(ref, hyp, sep='\\n')"
      ]
    },
    {
      "cell_type": "code",
      "execution_count": 8,
      "id": "outdoor-youth",
      "metadata": {
        "colab": {
          "base_uri": "https://localhost:8080/"
        },
        "id": "outdoor-youth",
        "outputId": "ba9f9eb3-c89f-4b5f-9352-686ddb078f14"
      },
      "outputs": [
        {
          "output_type": "stream",
          "name": "stdout",
          "text": [
            "N=10, E=3, CER=30.0\n"
          ]
        }
      ],
      "source": [
        "E = editdistance.eval(ref, hyp)\n",
        "N = len(ref)\n",
        "CER = E/N*100\n",
        "print(f\"N={N}, E={E}, CER={CER}\")"
      ]
    },
    {
      "cell_type": "markdown",
      "source": [
        "## 여러 문장에 대한 평균 오류율 측정"
      ],
      "metadata": {
        "id": "E4NDlAMNa9Jo"
      },
      "id": "E4NDlAMNa9Jo"
    },
    {
      "cell_type": "markdown",
      "source": [
        "지금까지는 한개의 {정답,인식결과} 쌍에 대해서 WER, CER을 측정해보았습니다.\n",
        "실제로는 매우 많은 {정답,인식결과} 쌍에 대해서 오류율을 계산하고 전체의 오류율을 성능지표로 사용합니다.\n",
        "이를 위해서 `kaldi`와 `ESPnet`은 다음과 같은 형식으로 여러 파일에 대한 정답전사문과 인식결과를 파일로 저장해둡니다."
      ],
      "metadata": {
        "id": "CVEPO_DwOFx7"
      },
      "id": "CVEPO_DwOFx7"
    },
    {
      "cell_type": "code",
      "source": [
        "!cat data/ref.txt"
      ],
      "metadata": {
        "colab": {
          "base_uri": "https://localhost:8080/"
        },
        "id": "BDBORIv0RvtN",
        "outputId": "d64b674a-327e-4244-aa76-56f2b20b98e3"
      },
      "id": "BDBORIv0RvtN",
      "execution_count": 9,
      "outputs": [
        {
          "output_type": "stream",
          "name": "stdout",
          "text": [
            "KsponSpeech_E00001 어 일단은 억지로 과장해서 이렇게 하는 것보다 진실된 마음으로 이걸 어떻게 전달할 수 있을까 공감을 시킬 수 있을까 해서 좀\n",
            "KsponSpeech_E00002 혼인 신고를 또 해야 되잖아 \n",
            "KsponSpeech_E00003 약간 젊은 엄마 같은 느낌이야 \n",
            "KsponSpeech_E00004 응 근데 오늘 일단 밥 먹고 이것 저것 하다가 시간되면 뭐 가는 거고 안 되면\n",
            "KsponSpeech_E00005 아 우린 또 그런 거 안 하잖아 어 그치 \n",
            "KsponSpeech_E00006 아 근데 진짜 감튀 먹고 있는데 데려온 거 심했다\n",
            "KsponSpeech_E00007 그래서 저승에서 그 애기를 찾아서 막 돌아다니는 내용인데 \n",
            "KsponSpeech_E00008 그런가 \n",
            "KsponSpeech_E00009 그 너가 매운 거를 잘 못먹어서 못 먹기도 하고\n",
            "KsponSpeech_E00010 그래서 나는 지금 7월달에는 사람들이 돈 30만 원씩 뭐 달마다 30만 원씩 모아서 지금 그 태국여행 가기로 했거든 \n"
          ]
        }
      ]
    },
    {
      "cell_type": "code",
      "source": [
        "!cat data/hyp.txt"
      ],
      "metadata": {
        "colab": {
          "base_uri": "https://localhost:8080/"
        },
        "id": "WGvfybgiR4k6",
        "outputId": "f7664b41-e93a-49d6-f2e9-2e716120a40b"
      },
      "id": "WGvfybgiR4k6",
      "execution_count": 10,
      "outputs": [
        {
          "output_type": "stream",
          "name": "stdout",
          "text": [
            "KsponSpeech_E00001 어 일단은 억지로 과장에서 이렇게 하는 것보다 진실된 마음으로 이걸 어떻게 전달을 할 수 있을까 공감을 시킬 수 있을까 해서 좀\n",
            "KsponSpeech_E00002 혼인 신고를 또 해야 되잖아\n",
            "KsponSpeech_E00003 약간 젊은 엄마 같은 느낌이야\n",
            "KsponSpeech_E00004 음 근데 오늘 일단 밥 먹고 이것저것 다 따라 하다가 시간 되면 >뭐 가는 거고 안 되면\n",
            "KsponSpeech_E00005 아무랜도 그런 거 알잖아 어 그지\n",
            "KsponSpeech_E00006 아 근데 진짜 감기 먹고 있는데 데려온 구심했다\n",
            "KsponSpeech_E00007 그래서 저순에서 그 애기를 찾아서 막 돌아다니는 내용인데\n",
            "KsponSpeech_E00008 그런가\n",
            "KsponSpeech_E00009 근데 너가 매운 거를 잘 못 먹었 못 먹기도 하고\n",
            "KsponSpeech_E00010 그래도 나는 지금 칠 월 달에는 사람들이 조 삼십만 원씩 뭐 달만 삼십 하십 모아서 지금 그 태홍된가 그랬거든\n"
          ]
        }
      ]
    },
    {
      "cell_type": "markdown",
      "source": [
        "이 두개의 파일을 읽어서 utternace-id 가 같은 문장간의 editdistance를 출력하는 파이선 코드가 `uttwer.py`, `uttcer.py` 파일입니다.\n",
        "다음과 같은 방법으로 실행합니다."
      ],
      "metadata": {
        "id": "zsEKLFo8StzJ"
      },
      "id": "zsEKLFo8StzJ"
    },
    {
      "cell_type": "code",
      "source": [
        "!python uttwer.py data/ref.txt data/hyp.txt"
      ],
      "metadata": {
        "colab": {
          "base_uri": "https://localhost:8080/"
        },
        "id": "nNXXFmP2SFPu",
        "outputId": "eafd27dd-1130-45a1-e7cb-729cad769701"
      },
      "id": "nNXXFmP2SFPu",
      "execution_count": 11,
      "outputs": [
        {
          "output_type": "stream",
          "name": "stdout",
          "text": [
            "KsponSpeech_E00001 15.00 3 20\n",
            "KsponSpeech_E00002  0.00 0 5\n",
            "KsponSpeech_E00003  0.00 0 5\n",
            "KsponSpeech_E00004 46.67 7 15\n",
            "KsponSpeech_E00005 66.67 6 9\n",
            "KsponSpeech_E00006 33.33 3 9\n",
            "KsponSpeech_E00007 12.50 1 8\n",
            "KsponSpeech_E00008  0.00 0 1\n",
            "KsponSpeech_E00009 33.33 3 9\n",
            "KsponSpeech_E00010 66.67 12 18\n",
            "N= 99 E= 35 WER= 35.35\n"
          ]
        }
      ]
    },
    {
      "cell_type": "code",
      "source": [
        "!python uttcer.py data/ref.txt data/hyp.txt"
      ],
      "metadata": {
        "colab": {
          "base_uri": "https://localhost:8080/"
        },
        "id": "K6I4j9xHZKX7",
        "outputId": "1b0b4312-aaf9-4594-ac1d-8424b7b8ebd2"
      },
      "id": "K6I4j9xHZKX7",
      "execution_count": 12,
      "outputs": [
        {
          "output_type": "stream",
          "name": "stdout",
          "text": [
            "KsponSpeech_E00001  4.00 2 50\n",
            "KsponSpeech_E00002  0.00 0 11\n",
            "KsponSpeech_E00003  0.00 0 12\n",
            "KsponSpeech_E00004 17.24 5 29\n",
            "KsponSpeech_E00005 42.86 6 14\n",
            "KsponSpeech_E00006 10.53 2 19\n",
            "KsponSpeech_E00007  4.17 1 24\n",
            "KsponSpeech_E00008  0.00 0 3\n",
            "KsponSpeech_E00009 22.22 4 18\n",
            "KsponSpeech_E00010 38.30 18 47\n",
            "N= 227 E= 38 CER= 16.74\n"
          ]
        }
      ]
    }
  ],
  "metadata": {
    "kernelspec": {
      "display_name": "Python 3",
      "language": "python",
      "name": "python3"
    },
    "language_info": {
      "codemirror_mode": {
        "name": "ipython",
        "version": 3
      },
      "file_extension": ".py",
      "mimetype": "text/x-python",
      "name": "python",
      "nbconvert_exporter": "python",
      "pygments_lexer": "ipython3",
      "version": "3.7.4"
    },
    "colab": {
      "provenance": [],
      "toc_visible": true
    }
  },
  "nbformat": 4,
  "nbformat_minor": 5
}