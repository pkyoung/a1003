{
  "cells": [
    {
      "cell_type": "markdown",
      "source": [
        "# 음성인식 오류율 측정 예제"
      ],
      "metadata": {
        "id": "KQK5jAWHapI4"
      },
      "id": "KQK5jAWHapI4"
    },
    {
      "cell_type": "markdown",
      "source": [
        "## 환경셋업"
      ],
      "metadata": {
        "id": "BYXo4wEdat4l"
      },
      "id": "BYXo4wEdat4l"
    },
    {
      "cell_type": "code",
      "source": [
        "# Run this cell to automatically clone the repo\n",
        "import sys\n",
        "import os\n",
        "\n",
        "if 'google.colab' in sys.modules:\n",
        "    if not os.path.exists(\"/content/a1003\"):\n",
        "        !git clone \"https://github.com/pkyoung/a1003.git\" /content/a1003\n",
        "    %cd /content/a1003/local\n",
        "else:\n",
        "    if not os.path.exists(\"~/a1003\"):\n",
        "        !git clone \"https://github.com/pkyoung/a1003.git\" ~/a1003\n",
        "    %cd ~/a1003/local"
      ],
      "metadata": {
        "id": "UFk3NVTkXbbB"
      },
      "id": "UFk3NVTkXbbB",
      "execution_count": null,
      "outputs": []
    },
    {
      "cell_type": "markdown",
      "source": [
        "## 개별 문장에 대한 오류율 측정"
      ],
      "metadata": {
        "id": "mQVDoQvAaxfI"
      },
      "id": "mQVDoQvAaxfI"
    },
    {
      "cell_type": "markdown",
      "source": [
        "\n",
        "\n",
        "\n",
        "다음 코드는 두 개의 한국어 문장(정답, 음성인식결과)에 대하여\n",
        "edit distance(최소편집거리)를 계산하여 WER과 CER을 측정하는 코드입니다.\n",
        "\n",
        "Edit distance를 계산하기 위해서 `editdistance` 모듈을 import하고,\n",
        "두 개의 문장을 각 변수에 저장합니다.\n"
      ],
      "metadata": {
        "id": "9-Uj8wD3LyNc"
      },
      "id": "9-Uj8wD3LyNc"
    },
    {
      "cell_type": "code",
      "execution_count": null,
      "id": "conditional-sterling",
      "metadata": {
        "id": "conditional-sterling"
      },
      "outputs": [],
      "source": [
        "import editdistance\n",
        "\n",
        "ref_text = \"오늘 서울의 날씨가 어때\"\n",
        "hyp_text = \"음 오늘의 날씨 가 어때\""
      ]
    },
    {
      "cell_type": "markdown",
      "source": [
        "WER을 측정하기 위해서 문장을 단어단위로 분리하여 리스트에 저장하빈다."
      ],
      "metadata": {
        "id": "JaHn32y5M14c"
      },
      "id": "JaHn32y5M14c"
    },
    {
      "cell_type": "code",
      "source": [
        "ref = ref_text.split()\n",
        "hyp = hyp_text.split()\n",
        "\n",
        "print(ref, hyp, sep='\\n')"
      ],
      "metadata": {
        "id": "KRnyxO44MuRu"
      },
      "id": "KRnyxO44MuRu",
      "execution_count": null,
      "outputs": []
    },
    {
      "cell_type": "markdown",
      "source": [
        "Edit distance를 계산합니다. `editdistance.eval()` 함수는 두개의 리스트를 입력받아서,\n",
        "두 리스트 간의 editdistance를 반환하는 함수입니다."
      ],
      "metadata": {
        "id": "ymRwA6HAM-je"
      },
      "id": "ymRwA6HAM-je"
    },
    {
      "cell_type": "code",
      "execution_count": null,
      "id": "requested-tunnel",
      "metadata": {
        "id": "requested-tunnel"
      },
      "outputs": [],
      "source": [
        "E = editdistance.eval(ref, hyp)\n",
        "N = len(ref)\n",
        "WER = E/N*100\n",
        "print(f\"N={N}, E={E}, WER={WER}\")"
      ]
    },
    {
      "cell_type": "markdown",
      "source": [
        "CER을 측정하기 위해서 문장을 각 글자의 리스트로 변환합니다."
      ],
      "metadata": {
        "id": "MdqTF8vHMXDO"
      },
      "id": "MdqTF8vHMXDO"
    },
    {
      "cell_type": "code",
      "execution_count": null,
      "id": "fiscal-supply",
      "metadata": {
        "id": "fiscal-supply"
      },
      "outputs": [],
      "source": [
        "ref = list(ref_text)\n",
        "hyp = list(hyp_text)\n",
        "print(ref, hyp, sep='\\n')"
      ]
    },
    {
      "cell_type": "markdown",
      "source": [
        "\n",
        "글자 단위로 분리된 리스트(`ref`, `hyp`)에 대해서 같은 방법으로 editdistance를 측정합니다.\n",
        "공백문자도 하나의 글자로 처리된 것도 확인하세요.\n"
      ],
      "metadata": {
        "id": "mTcxVG6hNT9P"
      },
      "id": "mTcxVG6hNT9P"
    },
    {
      "cell_type": "code",
      "execution_count": null,
      "id": "worse-natural",
      "metadata": {
        "id": "worse-natural"
      },
      "outputs": [],
      "source": [
        "E = editdistance.eval(ref, hyp)\n",
        "N = len(ref)\n",
        "CER = E/N*100\n",
        "print(f\"N={N}, E={E}, CER={CER}\")"
      ]
    },
    {
      "cell_type": "markdown",
      "source": [
        "이번에는 공백문자를 무시하고(즉, 띄어쓰기 오류를 완전히 무시하고) CER을 측정해 봅니다.\n",
        "앞에서 글자단위로 분리한 것과 다르게 이번에는 공백문자를 미리 제거합니다."
      ],
      "metadata": {
        "id": "i72KzLooNwJA"
      },
      "id": "i72KzLooNwJA"
    },
    {
      "cell_type": "code",
      "execution_count": null,
      "id": "governmental-respect",
      "metadata": {
        "id": "governmental-respect"
      },
      "outputs": [],
      "source": [
        "ref = list(''.join(ref_text.split()))\n",
        "hyp = list(''.join(hyp_text.split()))\n",
        "print(ref, hyp, sep='\\n')"
      ]
    },
    {
      "cell_type": "code",
      "execution_count": null,
      "id": "outdoor-youth",
      "metadata": {
        "id": "outdoor-youth"
      },
      "outputs": [],
      "source": [
        "E = editdistance.eval(ref, hyp)\n",
        "N = len(ref)\n",
        "CER = E/N*100\n",
        "print(f\"N={N}, E={E}, CER={CER}\")"
      ]
    },
    {
      "cell_type": "markdown",
      "source": [
        "## 여러 문장에 대한 평균 오류율 측정"
      ],
      "metadata": {
        "id": "E4NDlAMNa9Jo"
      },
      "id": "E4NDlAMNa9Jo"
    },
    {
      "cell_type": "markdown",
      "source": [
        "지금까지는 한개의 {정답,인식결과} 쌍에 대해서 WER, CER을 측정해보았습니다.\n",
        "실제로는 매우 많은 {정답,인식결과} 쌍에 대해서 오류율을 계산하고 전체의 오류율을 성능지표로 사용합니다.\n",
        "이를 위해서 `kaldi`와 `ESPnet`은 다음과 같은 형식으로 여러 파일에 대한 정답전사문과 인식결과를 파일로 저장해둡니다."
      ],
      "metadata": {
        "id": "CVEPO_DwOFx7"
      },
      "id": "CVEPO_DwOFx7"
    },
    {
      "cell_type": "code",
      "source": [
        "!cat data/ref.txt"
      ],
      "metadata": {
        "id": "BDBORIv0RvtN"
      },
      "id": "BDBORIv0RvtN",
      "execution_count": null,
      "outputs": []
    },
    {
      "cell_type": "code",
      "source": [
        "!cat data/hyp.txt"
      ],
      "metadata": {
        "id": "WGvfybgiR4k6"
      },
      "id": "WGvfybgiR4k6",
      "execution_count": null,
      "outputs": []
    },
    {
      "cell_type": "markdown",
      "source": [
        "이 두개의 파일을 읽어서 utternace-id 가 같은 문장간의 editdistance를 출력하는 파이선 코드가 `uttwer.py`, `uttcer.py` 파일입니다.\n",
        "다음과 같은 방법으로 실행합니다."
      ],
      "metadata": {
        "id": "zsEKLFo8StzJ"
      },
      "id": "zsEKLFo8StzJ"
    },
    {
      "cell_type": "code",
      "source": [
        "!python uttwer.py data/ref.txt data/hyp.txt"
      ],
      "metadata": {
        "id": "nNXXFmP2SFPu"
      },
      "id": "nNXXFmP2SFPu",
      "execution_count": null,
      "outputs": []
    },
    {
      "cell_type": "code",
      "source": [
        "!python uttcer.py data/ref.txt data/hyp.txt"
      ],
      "metadata": {
        "id": "K6I4j9xHZKX7"
      },
      "id": "K6I4j9xHZKX7",
      "execution_count": null,
      "outputs": []
    },
    {
      "cell_type": "markdown",
      "source": [
        "다른 데이터에 대해서도 해봅시다."
      ],
      "metadata": {
        "id": "qJGtFkI2A1xS"
      },
      "id": "qJGtFkI2A1xS"
    },
    {
      "cell_type": "code",
      "source": [
        "!git clone https://hf.co/datasets/pkyoung/a1003.git ./data/a1003\n",
        "!cp data/a1003/result_espnet_ma16k2401a.txt ./result.txt\n",
        "!head result.txt\n",
        "\n"
      ],
      "metadata": {
        "id": "LczhQ_PPAeM9"
      },
      "id": "LczhQ_PPAeM9",
      "execution_count": null,
      "outputs": []
    },
    {
      "cell_type": "code",
      "source": [
        "!python uttcer.py data/a1003/text result.txt"
      ],
      "metadata": {
        "id": "MbC-GYKHA8_h"
      },
      "id": "MbC-GYKHA8_h",
      "execution_count": null,
      "outputs": []
    },
    {
      "cell_type": "markdown",
      "source": [
        "문장부호를 제외한 인식률을 측정해봅니다."
      ],
      "metadata": {
        "id": "hxM67gn4BjJS"
      },
      "id": "hxM67gn4BjJS"
    },
    {
      "cell_type": "code",
      "source": [
        "!python uttwer.py <(python pp.py -s data/a1003/text) <(python pp.py -s result.txt) > /dev/null"
      ],
      "metadata": {
        "id": "G3uSHa6IBdmM"
      },
      "id": "G3uSHa6IBdmM",
      "execution_count": null,
      "outputs": []
    },
    {
      "cell_type": "markdown",
      "source": [
        "화자별 성능도 측정해봅시다."
      ],
      "metadata": {
        "id": "UBTs3P06A-oh"
      },
      "id": "UBTs3P06A-oh"
    },
    {
      "cell_type": "code",
      "source": [
        "%%bash\n",
        "for s in spk{1..9}; do\n",
        "  echo -n \"$s \" >&2\n",
        "  python uttcer.py data/a1003/text <(grep \"$s/\" result.txt) > /dev/null\n",
        "done"
      ],
      "metadata": {
        "id": "CvlWuko8AuAj"
      },
      "id": "CvlWuko8AuAj",
      "execution_count": null,
      "outputs": []
    }
  ],
  "metadata": {
    "kernelspec": {
      "display_name": "Python 3",
      "language": "python",
      "name": "python3"
    },
    "language_info": {
      "codemirror_mode": {
        "name": "ipython",
        "version": 3
      },
      "file_extension": ".py",
      "mimetype": "text/x-python",
      "name": "python",
      "nbconvert_exporter": "python",
      "pygments_lexer": "ipython3",
      "version": "3.7.4"
    },
    "colab": {
      "provenance": [],
      "toc_visible": true
    }
  },
  "nbformat": 4,
  "nbformat_minor": 5
}