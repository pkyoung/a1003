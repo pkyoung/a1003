{
 "cells": [
  {
   "cell_type": "markdown",
   "id": "b9c9893c-68c7-4492-a842-68eb77c8bc23",
   "metadata": {},
   "source": [
    "## 스펙트로그램과 특징추출 실습\n",
    "본 페이지에서는 음성파일의 스펙트로그램과 멜스펙트로그램을 그려보는 실습을 진행합니다."
   ]
  },
  {
   "cell_type": "markdown",
   "id": "a83dc7ce-b97b-422c-89bc-be4c13aa846a",
   "metadata": {},
   "source": [
    "먼저 음성파일을 들어봅니다."
   ]
  },
  {
   "cell_type": "code",
   "execution_count": null,
   "id": "regional-excitement",
   "metadata": {},
   "outputs": [],
   "source": [
    "from IPython.display import Audio\n",
    "filename = \"data/KsponSpeech_E00001.wav\"\n",
    "Audio(filename, autoplay=False)"
   ]
  },
  {
   "cell_type": "markdown",
   "id": "5626e868-d3f4-40bf-bf8d-4dfb0a5f045c",
   "metadata": {},
   "source": [
    "librosa 패키지는 음성파일을 다루는데 널리 쓰이는 파이선 모듈입니다.\n",
    "이 모듈을 이용해서 파일을 로드하고 스펙트로그램을 그립니다.\n",
    "먼저 librosa 모듈을 설치합니다."
   ]
  },
  {
   "cell_type": "code",
   "execution_count": null,
   "id": "b338c85b-7d6a-4287-945f-46b1507cb063",
   "metadata": {},
   "outputs": [],
   "source": [
    "!pip install librosa"
   ]
  },
  {
   "cell_type": "code",
   "execution_count": null,
   "id": "direct-collapse",
   "metadata": {},
   "outputs": [],
   "source": [
    "import librosa\n",
    "samples, sampling_rate = librosa.load(filename, sr=None)\n",
    "len(samples), sampling_rate"
   ]
  },
  {
   "cell_type": "code",
   "execution_count": null,
   "id": "9bd841d0-03ca-4338-a281-fc1052a2121c",
   "metadata": {},
   "outputs": [],
   "source": [
    "!pip install matplotlib"
   ]
  },
  {
   "cell_type": "code",
   "execution_count": null,
   "id": "departmental-resident",
   "metadata": {},
   "outputs": [],
   "source": [
    "import matplotlib.pyplot as plt\n",
    "%matplotlib notebook\n",
    "%matplotlib inline\n",
    "plt.rcParams[\"figure.figsize\"]=12,5\n",
    "from librosa import display\n",
    "import numpy as np\n",
    "plt.figure()\n",
    "librosa.display.waveshow(y = samples, sr = sampling_rate, color='blue')\n",
    "plt.show()"
   ]
  },
  {
   "cell_type": "markdown",
   "id": "6b6b1e16-1c89-4e70-a3c3-050b283bdb41",
   "metadata": {},
   "source": [
    "먼저 스펙트로그램을 그려봅니다. 변수들을 바꾸어가면서 어떤 변화가 있는지 관찰해봅니다."
   ]
  },
  {
   "cell_type": "code",
   "execution_count": null,
   "id": "thorough-portuguese",
   "metadata": {},
   "outputs": [],
   "source": [
    "hop_length = 160 \n",
    "n_fft = 512\n",
    "win_length=320\n",
    "window='hann'\n",
    "\n",
    "stft = librosa.stft(samples, n_fft=n_fft, win_length=win_length, hop_length=hop_length)\n",
    "spectrogram = np.abs(stft)**2\n",
    "log_spectrogram = librosa.power_to_db(spectrogram, ref=np.max)\n",
    "\n",
    "plt.figure()\n",
    "librosa.display.specshow(log_spectrogram, sr=sampling_rate, hop_length=hop_length, y_axis=\"hz\", x_axis=\"time\")\n"
   ]
  },
  {
   "cell_type": "markdown",
   "id": "d8f2e07d-9e1a-4105-9b12-d659117b02a6",
   "metadata": {},
   "source": [
    "이제 멜스펙트로그램을 그려봅니다. 변수들을 바꾸어가면서 어떤 변화가 있는지 관찰해봅니다."
   ]
  },
  {
   "cell_type": "code",
   "execution_count": null,
   "id": "loaded-grill",
   "metadata": {},
   "outputs": [],
   "source": [
    "hop_length = 160 \n",
    "n_fft = 512\n",
    "win_length=320\n",
    "window='hann'\n",
    "\n",
    "n_mels = 40\n",
    "fmin=0\n",
    "fmax=None\n",
    "\n",
    "S = librosa.feature.melspectrogram(\n",
    "    y=samples, \n",
    "    sr=sampling_rate, \n",
    "    hop_length=hop_length, n_fft=n_fft, win_length=win_length, window=window, \n",
    "    n_mels = n_mels, fmin=fmin, fmax=fmax)\n",
    "S_dB = librosa.power_to_db(S, ref=np.max)\n",
    "dim_feature, len_feature = S_dB.shape\n",
    "fig = plt.figure()\n",
    "librosa.display.specshow(S_dB, y_axis=None, x_axis=None)\n",
    "fig.gca().set_yticks(range(0, dim_feature+1, 10))\n",
    "fig.gca().set_xticks(range(0, len_feature, 100))\n",
    "fig.gca().set_ylabel(\"Mel-freq. Index\")\n",
    "fig.gca().set_xlabel(\"Frame Index\")\n"
   ]
  },
  {
   "cell_type": "markdown",
   "id": "718e0fc9-f6e1-48b3-b59e-194cc0a63d86",
   "metadata": {},
   "source": [
    "### SpecAug\n",
    "\n",
    "구글에서 발표한 SpecAug 알고리즘에 대해서 실습해봅니다.\n",
    "ESPnet 모듈이 필요합니다. 설치에 상당한 시간이 소요됩니다."
   ]
  },
  {
   "cell_type": "code",
   "execution_count": null,
   "id": "ca164f32-30e7-4584-afc1-ef2343edad2e",
   "metadata": {},
   "outputs": [],
   "source": [
    "!pip install espnet"
   ]
  },
  {
   "cell_type": "markdown",
   "id": "3b17c2c5-c290-4935-ae8f-439504fa1708",
   "metadata": {},
   "source": [
    "앞서 "
   ]
  },
  {
   "cell_type": "code",
   "execution_count": null,
   "id": "modern-sport",
   "metadata": {},
   "outputs": [],
   "source": [
    "from espnet2.asr.specaug.specaug import SpecAug\n",
    "import torch\n",
    "\n",
    "specaug = SpecAug(apply_time_warp=True,\n",
    "                  time_warp_window=5,\n",
    "                  num_freq_mask=2,\n",
    "                  apply_freq_mask=True,\n",
    "                  freq_mask_width_range=(0,30),\n",
    "                  apply_time_mask=True,\n",
    "                  num_time_mask=2,\n",
    "                  time_mask_width_range=(0,40),\n",
    "                 )\n",
    "print(specaug)\n",
    "\n",
    "S_dB_in = torch.unsqueeze(torch.from_numpy(S_dB.copy().T), 0)\n",
    "specaug(S_dB_in)\n",
    "S_dB_out = torch.squeeze(S_dB_in, 0).numpy().T\n",
    "\n",
    "plt.figure()\n",
    "librosa.display.specshow(S_dB_out, sr=sampling_rate, hop_length=hop_length, y_axis=\"mel\", x_axis=\"time\")\n",
    "\n"
   ]
  },
  {
   "cell_type": "code",
   "execution_count": null,
   "id": "settled-lottery",
   "metadata": {},
   "outputs": [],
   "source": []
  },
  {
   "cell_type": "code",
   "execution_count": null,
   "id": "0c6713e2-a494-4122-bcef-4c4cb4936247",
   "metadata": {},
   "outputs": [],
   "source": []
  }
 ],
 "metadata": {
  "kernelspec": {
   "display_name": "Python 3 (ipykernel)",
   "language": "python",
   "name": "python3"
  },
  "language_info": {
   "codemirror_mode": {
    "name": "ipython",
    "version": 3
   },
   "file_extension": ".py",
   "mimetype": "text/x-python",
   "name": "python",
   "nbconvert_exporter": "python",
   "pygments_lexer": "ipython3",
   "version": "3.10.17"
  }
 },
 "nbformat": 4,
 "nbformat_minor": 5
}
