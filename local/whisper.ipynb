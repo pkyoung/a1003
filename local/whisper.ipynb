{
  "nbformat": 4,
  "nbformat_minor": 0,
  "metadata": {
    "colab": {
      "provenance": [],
      "authorship_tag": "ABX9TyMjt6pZM1XFtcgV7gRn7dMc"
    },
    "kernelspec": {
      "name": "python3",
      "display_name": "Python 3"
    },
    "language_info": {
      "name": "python"
    }
  },
  "cells": [
    {
      "cell_type": "code",
      "source": [
        "# Run this cell to automatically clone the repo\n",
        "import sys\n",
        "import os\n",
        "\n",
        "if 'google.colab' in sys.modules:\n",
        "    if not os.path.exists(\"/content/a1003\"):\n",
        "        !git clone \"https://github.com/pkyoung/a1003.git\" /content/a1003\n",
        "    %cd /content/a1003/local\n",
        "else:\n",
        "    if not os.path.exists(\"~/a1003\"):\n",
        "        !git clone \"https://github.com/pkyoung/a1003.git\" ~/a1003\n",
        "    %cd ~/a1003/local\n",
        "\n",
        "if not os.path.exists(\"data/a1003\"):\n",
        "  !git clone https://hf.co/datasets/pkyoung/a1003.git ./data/a1003"
      ],
      "metadata": {
        "id": "0HfXslMLcUgr"
      },
      "execution_count": null,
      "outputs": []
    },
    {
      "cell_type": "markdown",
      "source": [
        "huggingface에서 테스트용 데이터셋을 내려받습니다.\n",
        "9명의 화자가 20개의 짧은 문장을 발성한 wav 파일과 정답전사문 파일입니다.\n"
      ],
      "metadata": {
        "id": "ds38qww2I-Uj"
      }
    },
    {
      "cell_type": "code",
      "source": [
        "if not os.path.exists(\"data/a1003\"):\n",
        "  !git clone https://hf.co/datasets/pkyoung/a1003.git ./data/a1003"
      ],
      "metadata": {
        "id": "rpInwFfZI8PF"
      },
      "execution_count": null,
      "outputs": []
    },
    {
      "cell_type": "markdown",
      "source": [
        "내려받은 파일을 들어봅니다.\n",
        "내려받은 디렉토리의 구조는 다음과 같습니다.\n",
        "```\n",
        "data/a1003\n",
        "    ├── README.md\n",
        "    ├── result_whisper_turbo.txt\n",
        "    ├── text\n",
        "    ├── wav.scp\n",
        "    ├── wav\n",
        "    │   ├── spk1\n",
        "    │   │   ├── 1.wav\n",
        "    │   │   ├── 10.wav\n",
        "    │   │   ├── 11.wav\n",
        "    ...\n",
        "```\n",
        "`text` 파일과 `wav.scp` 파일은 앞서 설명한 `kaldi` 파일과 같은 형식을 갖습니다. 파일은 다음과 같은 방법으로 들어볼 수 있습니다."
      ],
      "metadata": {
        "id": "5ZmtC9uql4tF"
      }
    },
    {
      "cell_type": "code",
      "source": [
        "from IPython.display import Audio\n",
        "filename = \"data/a1003/wav/spk1/1.wav\"\n",
        "Audio(filename, autoplay=False)"
      ],
      "metadata": {
        "id": "uPw1w-0xl7_M"
      },
      "execution_count": null,
      "outputs": []
    },
    {
      "cell_type": "code",
      "source": [
        "pip install openai-whisper"
      ],
      "metadata": {
        "id": "zPeDDb3WEjee"
      },
      "execution_count": null,
      "outputs": []
    },
    {
      "cell_type": "markdown",
      "source": [
        "## Whipser 음성인식\n",
        "\n",
        "한개의 wav 파일에 대해서 인식을 수행해봅니다. 간단하게 파일을 입력으로 `whisper` 명령어를 실행합니다."
      ],
      "metadata": {
        "id": "UEiqfrfPL2HJ"
      }
    },
    {
      "cell_type": "code",
      "source": [
        "!whisper data/a1003/wav/spk1/1.wav"
      ],
      "metadata": {
        "id": "2qmOh7fyEtbx"
      },
      "execution_count": null,
      "outputs": []
    },
    {
      "cell_type": "markdown",
      "source": [
        "whisper는 task로 transcribe와 translate 두가지를 할 수 있습니다. 인식에 사용할 모델, 인식대상 언어를 지정하여 음성인식을 수행합니다."
      ],
      "metadata": {
        "id": "YyB7WFQHMB3R"
      }
    },
    {
      "cell_type": "code",
      "source": [
        "!whisper --model large-v3 --language korean --task transcribe data/a1003/wav/spk6/recording_17.wav"
      ],
      "metadata": {
        "id": "cFgHsQXDFBy-"
      },
      "execution_count": null,
      "outputs": []
    },
    {
      "cell_type": "markdown",
      "source": [
        "파이선 코드 안에서는 다음과 같은 방법으로 이용할 수 있습니다. Low-level 핸들링을 위해서는 `transcribe()` 함수 외에 `decode()` 함수를 사용할 수 있습니다."
      ],
      "metadata": {
        "id": "iwkkmoe2MYbW"
      }
    },
    {
      "cell_type": "code",
      "source": [
        "import whisper\n",
        "model = whisper.load_model(\"tiny\")\n",
        "result = model.transcribe(\"data/a1003/wav/spk6/recording_17.wav\")\n",
        "print(result[\"text\"])"
      ],
      "metadata": {
        "id": "NIuram8cFG7o"
      },
      "execution_count": null,
      "outputs": []
    },
    {
      "cell_type": "markdown",
      "source": [
        "전체 테스트 데이터셋 (180개) 에 대해서 인식을 수행해서 결과를 `result.txt` 파일에 저장합니다.\n",
        "\n",
        "보통의 GPU 카드가 설치된 머신에서는 수 분 이내로 인식이 완료됩니다. Colab 환경에서는 10분 이상 소요될 수 있습니다."
      ],
      "metadata": {
        "id": "v20XyYdZMsw1"
      }
    },
    {
      "cell_type": "code",
      "source": [
        "import whisper\n",
        "import tqdm\n",
        "import warnings\n",
        "warnings.filterwarnings(\"ignore\")\n",
        "\n",
        "model = whisper.load_model(\"tiny\")\n",
        "\n",
        "with open('data/a1003/wav.scp') as fscp:\n",
        "    lines = fscp.readlines()\n",
        "\n",
        "with open(\"result.txt\", \"w\") as f:\n",
        "  for line in  tqdm.tqdm(lines, desc=\"Transcribing\", unit=\"utterance\"):\n",
        "    uttid, filepath = line.split()\n",
        "    result = model.transcribe(filepath)\n",
        "    print(uttid, result[\"text\"], file=f)"
      ],
      "metadata": {
        "id": "8ZyHLUOgHZX2"
      },
      "execution_count": null,
      "outputs": []
    },
    {
      "cell_type": "markdown",
      "source": [
        "저장된 인식결과를 확인합니다."
      ],
      "metadata": {
        "id": "o9ScPzqCMx-X"
      }
    },
    {
      "cell_type": "code",
      "source": [
        "!head result.txt"
      ],
      "metadata": {
        "id": "WB7B-LE0IXig"
      },
      "execution_count": null,
      "outputs": []
    },
    {
      "cell_type": "markdown",
      "source": [
        "## Whisper 모델의 음성인식 오류율 측정\n",
        "발화별 CER과 평균 CER을 계산합니다.\n",
        "\n",
        "`data/a1003/result_whisper_turbo.txt` 파일에 `large-v3-turbo` 모델의\n",
        "인식 결과를 미리 만들어 두었습니다. 이 파일을 사용해서 인식률을 측정합니다."
      ],
      "metadata": {
        "id": "LQDULyeeM2-M"
      }
    },
    {
      "cell_type": "code",
      "source": [
        "!python uttcer.py data/a1003/text data/a1003/result_whisper_turbo.txt"
      ],
      "metadata": {
        "id": "9Tlb9oRIIZ_j"
      },
      "execution_count": null,
      "outputs": []
    },
    {
      "cell_type": "markdown",
      "source": [
        "화자별 음성인식 성능을 계산합니다."
      ],
      "metadata": {
        "id": "HWkNWTgZM-wn"
      }
    },
    {
      "cell_type": "code",
      "source": [
        "%%bash\n",
        "for s in spk{1..9}; do\n",
        "  echo -n \"$s \" >&2\n",
        "  python uttcer.py data/a1003/text <(grep \"$s/\" data/a1003/result_whisper_turbo.txt) \\\n",
        "    > /dev/null\n",
        "done\n"
      ],
      "metadata": {
        "id": "aY3v2_XLKClc"
      },
      "execution_count": null,
      "outputs": []
    },
    {
      "cell_type": "markdown",
      "source": [
        "평균 오류율이 높은 화자에 대해서는 몇몇 파일을 들어봅니다. 주석처리된 부분을 바꿔가면서 들어봅니다."
      ],
      "metadata": {
        "id": "wBvJvp6wmP69"
      }
    },
    {
      "cell_type": "code",
      "source": [
        "from IPython.display import Audio\n",
        "filename = \"data/a1003/wav/spk2/utt1.wav\"\n",
        "#filename = \"data/a1003/wav/spk7/recording_00.wav\"\n",
        "#filename = \"data/a1003/wav/spk3/data15.wav\"\n",
        "\n",
        "Audio(filename, autoplay=False)"
      ],
      "metadata": {
        "id": "1JnBJq78mUfR"
      },
      "execution_count": null,
      "outputs": []
    },
    {
      "cell_type": "markdown",
      "source": [
        "문장부호를 제외한 CER을 계산합니다."
      ],
      "metadata": {
        "id": "YMBYBgeAM6VV"
      }
    },
    {
      "cell_type": "code",
      "source": [
        "!python uttwer.py <(python pp.py -s data/a1003/text) \\\n",
        "\n",
        "  <(python pp.py -s data/a1003/result_whisper_turbo.txt) > /dev/null"
      ],
      "metadata": {
        "id": "PUW0cLq7IegJ"
      },
      "execution_count": null,
      "outputs": []
    },
    {
      "cell_type": "markdown",
      "source": [
        "## Whisper 모델별 음성인식 성능 및 속도\n",
        "\n",
        "각 모델별 모델크기, 인식 소요 시간 및 인식 성능은 다음 표와 같습니다.\n",
        "인식소요시간 및 인식성능은 환경에 따라 달라질 수 있습니다. (WER1, CER1: 문장부호 제외 전/WER2, CER2: 문장부호 제외 후)\n",
        "\n",
        "| Model          | Size | Elapsed | RTF | WER1 | CER1 | WER2 | CER2 |\n",
        "| ---            | ---  | ---     | --- | ---  | ---  | ---  | ---  |\n",
        "| tiny           | 73M  | 1m6s    |0.04 |50.11 |26.62 |44.10 |24.55 |\n",
        "| base           | 139M | 1m2s    |0.04 |38.94 |17.74 |32.76 |15.61 |\n",
        "| small          | 462M | 1m38s   |0.06 |32.73 |13.07 |24.55 |10.13 |\n",
        "| medium         | 1.5G | 3m5s    |0.11 |29.57 |11.14 |21.90 | 8.46 |\n",
        "| large-v1       | 2.9G | 4m0s    |0.15 |25.33 | 9.03 |16.98 | 6.15 |\n",
        "| large-v2       | 2.9G | 3m46s   |0.14 |30.34 |13.43 |21.64 |10.24 |\n",
        "| large-v3       | 2.9G | 4m1s    |0.15 |29.44 |13.46 |20.40 |10.43 |\n",
        "| large-v3-turbo | 1.6G | 1m19s   |0.05 |24.18 | 8.29 |14.67 | 5.05 |\n"
      ],
      "metadata": {
        "id": "dJiWQNzUg2N9"
      }
    }
  ]
}